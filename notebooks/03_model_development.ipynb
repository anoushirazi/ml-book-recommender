{
 "cells": [
  {
   "cell_type": "markdown",
   "metadata": {},
   "source": [
    "# AI-Book-Recommender: Model Development\n",
    "This notebook implements the recommendation models: popularity-based, content-based, collaborative filtering with SVD, and a hybrid system combining all three."
   ]
  },
  {
   "cell_type": "code",
   "execution_count": null,
   "metadata": {},
   "outputs": [],
   "source": [
    "import pandas as pd\n",
    "import numpy as np\n",
    "from sklearn.feature_extraction.text import TfidfVectorizer\n",
    "from sklearn.metrics.pairwise import cosine_similarity\n",
    "from scipy.sparse.linalg import svds\n",
    "\n",
    "# Load cleaned datasets\n",
    "books = pd.read_csv('books.csv', low_memory=False)\n",
    "ratings = pd.read_csv('ratings.csv')"
   ]
  },
  {
   "cell_type": "code",
   "execution_count": null,
   "metadata": {},
   "outputs": [],
   "source": [
    "# Popularity-Based Recommender\n",
    "def popularity_recommender(ratings, books, top_n=10):\n",
    "    pop_scores = ratings['ISBN'].value_counts().head(top_n).index\n",
    "    return books[books['ISBN'].isin(pop_scores)][['ISBN', 'Book-Title', 'Book-Author', 'Publisher']]"
   ]
  },
  {
   "cell_type": "code",
   "execution_count": null,
   "metadata": {},
   "outputs": [],
   "source": [
    "# Content-Based Recommender\n",
    "def content_based_recommender(book_title, books, top_n=10):\n",
    "    tfidf = TfidfVectorizer(stop_words='english')\n",
    "    tfidf_matrix = tfidf.fit_transform(books['Book-Title'])\n",
    "    cosine_sim = cosine_similarity(tfidf_matrix, tfidf_matrix)\n",
    "    indices = pd.Series(books.index, index=books['Book-Title']).drop_duplicates()\n",
    "    idx = indices[book_title]\n",
    "    sim_scores = list(enumerate(cosine_sim[idx]))\n",
    "    sim_scores = sorted(sim_scores, key=lambda x: x[1], reverse=True)[1:top_n+1]\n",
    "    book_indices = [i[0] for i in sim_scores]\n",
    "    return books.iloc[book_indices][['ISBN', 'Book-Title', 'Book-Author', 'Publisher']]"
   ]
  },
  {
   "cell_type": "code",
   "execution_count": null,
   "metadata": {},
   "outputs": [],
   "source": [
    "# Collaborative Filtering with SVD\n",
    "def svd_recommender(ratings, user_id, books, top_n=10, k=50):\n",
    "    user_item_matrix = ratings.pivot(index='User-ID', columns='ISBN', values='Book-Rating').fillna(0)\n",
    "    user_ratings_mean = user_item_matrix.mean(axis=1)\n",
    "    R_demeaned = user_item_matrix.sub(user_ratings_mean, axis=0)\n",
    "    U, sigma, Vt = svds(R_demeaned, k=k)\n",
    "    sigma = np.diag(sigma)\n",
    "    all_user_predicted_ratings = np.dot(np.dot(U, sigma), Vt) + user_ratings_mean.values.reshape(-1, 1)\n",
    "    preds_df = pd.DataFrame(all_user_predicted_ratings, columns=user_item_matrix.columns, index=user_item_matrix.index)\n",
    "    sorted_user_predictions = preds_df.loc[user_id].sort_values(ascending=False)\n",
    "    user_data = ratings[ratings['User-ID'] == user_id]['ISBN'].values\n",
    "    recommendations = sorted_user_predictions[~sorted_user_predictions.index.isin(user_data)].head(top_n)\n",
    "    return books[books['ISBN'].isin(recommendations.index)][['ISBN', 'Book-Title', 'Book-Author', 'Publisher']]"
   ]
  },
  {
   "cell_type": "code",
   "execution_count": null,
   "metadata": {},
   "outputs": [],
   "source": [
    "# Hybrid Recommender\n",
    "def hybrid_recommender(user_id, book_title, ratings, books, top_n=10):\n",
    "    print('Content-Based:')\n",
    "    print(content_based_recommender(book_title, books, top_n))\n",
    "    print('\\nCollaborative Filtering:')\n",
    "    print(svd_recommender(ratings, user_id, books, top_n))\n",
    "    print('\\nPopularity-Based:')\n",
    "    print(popularity_recommender(ratings, books, top_n))"
   ]
  }
 ],
 "metadata": {
  "kernelspec": {
   "display_name": "Python 3",
   "language": "python",
   "name": "python3"
  },
  "language_info": {
   "codemirror_mode": {
    "name": "ipython",
    "version": 3
   },
   "file_extension": ".py",
   "mimetype": "text/x-python",
   "name": "python",
   "nbconvert_exporter": "python",
   "pygments_lexer": "ipython3",
   "version": "3.8.0"
  }
 },
 "nbformat": 4,
 "nbformat_minor": 4
}