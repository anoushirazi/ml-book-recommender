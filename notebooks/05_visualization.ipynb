{
 "cells": [
  {
   "cell_type": "markdown",
   "metadata": {},
   "source": [
    "# AI-Book-Recommender: Visualization\n",
    "This notebook generates visualizations to gain insights into user behavior, rating patterns, and model performance, including heatmaps, PCA plots, and distribution charts."
   ]
  },
  {
   "cell_type": "code",
   "execution_count": null,
   "metadata": {},
   "outputs": [],
   "source": [
    "import pandas as pd\n",
    "import numpy as np\n",
    "import matplotlib.pyplot as plt\n",
    "import seaborn as sns\n",
    "from sklearn.decomposition import PCA\n",
    "from scipy.sparse.linalg import svds\n",
    "\n",
    "# Set seaborn style\n",
    "sns.set(style='whitegrid')\n",
    "\n",
    "# Load cleaned datasets\n",
    "books = pd.read_csv('books.csv', low_memory=False)\n",
    "users = pd.read_csv('users.csv')\n",
    "ratings = pd.read_csv('ratings.csv')"
   ]
  },
  {
   "cell_type": "code",
   "execution_count": null,
   "metadata": {},
   "outputs": [],
   "source": [
    "# Filter to top users and books\n",
    "top_users = ratings['User-ID'].value_counts().head(1000).index\n",
    "top_books = ratings['ISBN'].value_counts().head(1000).index\n",
    "ratings_small = ratings[ratings['User-ID'].isin(top_users) & ratings['ISBN'].isin(top_books)]"
   ]
  },
  {
   "cell_type": "code",
   "execution_count": null,
   "metadata": {},
   "outputs": [],
   "source": [
    "# SVD Visualization with PCA\n",
    "def svd_visualize(ratings):\n",
    "    user_item_matrix = ratings.pivot(index='User-ID', columns='ISBN', values='Book-Rating').fillna(0)\n",
    "    user_ratings_mean = user_item_matrix.mean(axis=1)\n",
    "    R_demeaned = user_item_matrix.sub(user_ratings_mean, axis=0)\n",
    "    U, sigma, Vt = svds(R_demeaned, k=50)\n",
    "    pca = PCA(n_components=2)\n",
    "    user_pca = pca.fit_transform(U)\n",
    "    plt.figure(figsize=(8, 6))\n",
    "    plt.scatter(user_pca[:, 0], user_pca[:, 1], alpha=0.5)\n",
    "    plt.title('User Visualization in SVD-Reduced Space via PCA')\n",
    "    plt.xlabel('PC1')\n",
    "    plt.ylabel('PC2')\n",
    "    plt.grid(True)\n",
    "    plt.show()\n",
    "\n",
    "svd_visualize(ratings_small)"
   ]
  },
  {
   "cell_type": "code",
   "execution_count": null,
   "metadata": {},
   "outputs": [],
   "source": [
    "# User Age Distribution\n",
    "plt.figure(figsize=(12, 6))\n",
    "sns.boxplot(x=users['Age'], color='lightgreen')\n",
    "plt.title('User Age Distribution (Boxplot)')\n",
    "plt.xlabel('Age')\n",
    "plt.tight_layout()\n",
    "plt.show()"
   ]
  },
  {
   "cell_type": "code",
   "execution_count": null,
   "metadata": {},
   "outputs": [],
   "source": [
    "# Heatmap of Top 50 Users vs Top 50 Books\n",
    "top_50_users = ratings['User-ID'].value_counts().head(50).index\n",
    "top_50_books = ratings['ISBN'].value_counts().head(50).index\n",
    "ratings_heatmap = ratings[ratings['User-ID'].isin(top_50_users) & ratings['ISBN'].isin(top_50_books)]\n",
    "heatmap_matrix = ratings_heatmap.pivot(index='User-ID', columns='ISBN', values='Book-Rating')\n",
    "\n",
    "plt.figure(figsize=(15, 10))\n",
    "sns.heatmap(heatmap_matrix, cmap='YlGnBu', cbar_kws={'label': 'Rating'})\n",
    "plt.title('Heatmap of Ratings: Top 50 Users vs Top 50 Books')\n",
    "plt.xlabel('Book ISBN')\n",
    "plt.ylabel('User ID')\n",
    "plt.tight_layout()\n",
    "plt.show()"
   ]
  }
 ],
 "metadata": {
  "kernelspec": {
   "display_name": "Python 3",
   "language": "python",
   "name": "python3"
  },
  "language_info": {
   "codemirror_mode": {
    "name": "ipython",
    "version": 3
   },
   "file_extension": ".py",
   "mimetype": "text/x-python",
   "name": "python",
   "nbconvert_exporter": "python",
   "pygments_lexer": "ipython3",
   "version": "3.8.0"
  }
 },
 "nbformat": 4,
 "nbformat_minor": 4
}