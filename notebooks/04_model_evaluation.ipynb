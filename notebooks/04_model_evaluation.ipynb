{
 "cells": [
  {
   "cell_type": "markdown",
   "metadata": {},
   "source": [
    "# AI-Book-Recommender: Model Evaluation\n",
    "This notebook evaluates the SVD-based collaborative filtering model using RMSE on a small sample of the ratings dataset."
   ]
  },
  {
   "cell_type": "code",
   "execution_count": null,
   "metadata": {},
   "outputs": [],
   "source": [
    "import pandas as pd\n",
    "import numpy as np\n",
    "from sklearn.model_selection import train_test_split\n",
    "from sklearn.metrics import mean_squared_error\n",
    "from math import sqrt\n",
    "from scipy.sparse.linalg import svds\n",
    "\n",
    "# Load cleaned ratings dataset\n",
    "ratings = pd.read_csv('ratings.csv')"
   ]
  },
  {
   "cell_type": "code",
   "execution_count": null,
   "metadata": {},
   "outputs": [],
   "source": [
    "def evaluate_split_small(ratings, sample_size=1000):\n",
    "    sample = ratings.sample(n=sample_size, random_state=42)\n",
    "    train, test = train_test_split(sample, test_size=0.2, random_state=42)\n",
    "    common_users = list(set(train['User-ID']) & set(test['User-ID']))\n",
    "    \n",
    "    if len(common_users) == 0:\n",
    "        print('No common users between train and test. Increase sample size.')\n",
    "        return\n",
    "    \n",
    "    train = train[train['User-ID'].isin(common_users)]\n",
    "    test = test[test['User-ID'].isin(common_users)]\n",
    "    \n",
    "    train_matrix = train.pivot(index='User-ID', columns='ISBN', values='Book-Rating').fillna(0)\n",
    "    if train_matrix.shape[0] < 2 or train_matrix.shape[1] < 2:\n",
    "        print('Not enough data for SVD.')\n",
    "        return\n",
    "    \n",
    "    user_ratings_mean = train_matrix.mean(axis=1)\n",
    "    R_demeaned = train_matrix.sub(user_ratings_mean, axis=0)\n",
    "    U, sigma, Vt = svds(R_demeaned, k=50)\n",
    "    sigma = np.diag(sigma)\n",
    "    predicted_ratings = np.dot(np.dot(U, sigma), Vt) + user_ratings_mean.values.reshape(-1, 1)\n",
    "    preds_df = pd.DataFrame(predicted_ratings, columns=train_matrix.columns, index=train_matrix.index)\n",
    "    \n",
    "    actual = []\n",
    "    predicted = []\n",
    "    for _, row in test.iterrows():\n",
    "        user = row['User-ID']\n",
    "        isbn = row['ISBN']\n",
    "        if user in preds_df.index and isbn in preds_df.columns:\n",
    "            actual.append(row['Book-Rating'])\n",
    "            predicted.append(preds_df.loc[user, isbn])\n",
    "    \n",
    "    if len(actual) > 0:\n",
    "        rmse = sqrt(mean_squared_error(actual, predicted))\n",
    "        print(f'Actual RMSE (small sample): {rmse}')\n",
    "    else:\n",
    "        print('No valid predictions to compute RMSE.')"
   ]
  },
  {
   "cell_type": "code",
   "execution_count": null,
   "metadata": {},
   "outputs": [],
   "source": [
    "# Run evaluation\n",
    "evaluate_split_small(ratings, sample_size=1000)"
   ]
  }
 ],
 "metadata": {
  "kernelspec": {
   "display_name": "Python 3",
   "language": "python",
   "name": "python3"
  },
  "language_info": {
   "codemirror_mode": {
    "name": "ipython",
    "version": 3
   },
   "file_extension": ".py",
   "mimetype": "text/x-python",
   "name": "python",
   "nbconvert_exporter": "python",
   "pygments_lexer": "ipython3",
   "version": "3.8.0"
  }
 },
 "nbformat": 4,
 "nbformat_minor": 4
}