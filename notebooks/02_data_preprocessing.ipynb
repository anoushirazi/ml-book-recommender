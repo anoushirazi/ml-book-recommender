{
 "cells": [
  {
   "cell_type": "markdown",
   "metadata": {},
   "source": [
    "# AI-Book-Recommender: Data Preprocessing\n",
    "This notebook handles the cleaning and preparation of the books, users, and ratings datasets to ensure quality inputs for the recommendation models."
   ]
  },
  {
   "cell_type": "code",
   "execution_count": null,
   "metadata": {},
   "outputs": [],
   "source": [
    "import pandas as pd\n",
    "import numpy as np\n",
    "\n",
    "# Load datasets\n",
    "books = pd.read_csv('books.csv', low_memory=False)\n",
    "users = pd.read_csv('users.csv')\n",
    "ratings = pd.read_csv('ratings.csv')"
   ]
  },
  {
   "cell_type": "code",
   "execution_count": null,
   "metadata": {},
   "outputs": [],
   "source": [
    "# Clean Books Dataset\n",
    "books.drop_duplicates(subset='ISBN', inplace=True)\n",
    "books.dropna(subset=['ISBN', 'Book-Title', 'Book-Author'], inplace=True)\n",
    "books['Publisher'].fillna('Unknown', inplace=True)\n",
    "books['Book-Title'] = books['Book-Title'].fillna('')\n",
    "\n",
    "# Clean Users Dataset\n",
    "users.drop_duplicates(subset='User-ID', inplace=True)\n",
    "users.loc[(users['Age'] < 5) | (users['Age'] > 100), 'Age'] = np.nan\n",
    "users['Age'].fillna(users['Age'].median(), inplace=True)\n",
    "\n",
    "# Clean Ratings Dataset\n",
    "ratings = ratings[ratings['Book-Rating'] > 0]\n",
    "ratings.drop_duplicates(inplace=True)\n",
    "\n",
    "# Preview cleaned datasets\n",
    "print('Cleaned Books Dataset:')\n",
    "print(books.head())\n",
    "print('\\nCleaned Users Dataset:')\n",
    "print(users.head())\n",
    "print('\\nCleaned Ratings Dataset:')\n",
    "print(ratings.head())"
   ]
  }
 ],
 "metadata": {
  "kernelspec": {
   "display_name": "Python 3",
   "language": "python",
   "name": "python3"
  },
  "language_info": {
   "codemirror_mode": {
    "name": "ipython",
    "version": 3
   },
   "file_extension": ".py",
   "mimetype": "text/x-python",
   "name": "python",
   "nbconvert_exporter": "python",
   "pygments_lexer": "ipython3",
   "version": "3.8.0"
  }
 },
 "nbformat": 4,
 "nbformat_minor": 4
}