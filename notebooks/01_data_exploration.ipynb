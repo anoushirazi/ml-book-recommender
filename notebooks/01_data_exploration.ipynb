{
 "cells": [
  {
   "cell_type": "markdown",
   "metadata": {},
   "source": [
    "# AI-Book-Recommender: Data Exploration\n",
    "This notebook loads the datasets and performs exploratory data analysis (EDA) to understand the structure and content of the books, users, and ratings datasets."
   ]
  },
  {
   "cell_type": "code",
   "execution_count": null,
   "metadata": {},
   "outputs": [],
   "source": [
    "import pandas as pd\n",
    "import numpy as np\n",
    "import matplotlib.pyplot as plt\n",
    "import seaborn as sns\n",
    "\n",
    "# Set seaborn style\n",
    "sns.set(style='whitegrid')\n",
    "\n",
    "# Suppress warnings\n",
    "import warnings\n",
    "warnings.filterwarnings('ignore')\n",
    "\n",
    "# Ensure plots appear inline in Jupyter\n",
    "%matplotlib inline"
   ]
  },
  {
   "cell_type": "code",
   "execution_count": null,
   "metadata": {},
   "outputs": [],
   "source": [
    "# Load datasets\n",
    "books = pd.read_csv('books.csv', low_memory=False)\n",
    "users = pd.read_csv('users.csv')\n",
    "ratings = pd.read_csv('ratings.csv')\n",
    "\n",
    "# Preview datasets\n",
    "print('Books Dataset:')\n",
    "print(books.head())\n",
    "print('\\nUsers Dataset:')\n",
    "print(users.head())\n",
    "print('\\nRatings Dataset:')\n",
    "print(ratings.head())"
   ]
  },
  {
   "cell_type": "code",
   "execution_count": null,
   "metadata": {},
   "outputs": [],
   "source": [
    "# Basic EDA\n",
    "# 1. Distribution of book ratings\n",
    "plt.figure(figsize=(8, 6))\n",
    "sns.histplot(ratings['Book-Rating'], bins=10, kde=False, color='skyblue')\n",
    "plt.title('Distribution of Book Ratings', fontsize=14)\n",
    "plt.xlabel('Rating')\n",
    "plt.ylabel('Count')\n",
    "plt.xticks(range(0, 11))\n",
    "plt.tight_layout()\n",
    "plt.show()\n",
    "\n",
    "# 2. Top 10 most rated books\n",
    "popular_counts = ratings['ISBN'].value_counts().head(10).reset_index()\n",
    "popular_counts.columns = ['ISBN', 'Rating Count']\n",
    "popular_titles = books[['ISBN', 'Book-Title']]\n",
    "popular_books = pd.merge(popular_counts, popular_titles, on='ISBN', how='left')\n",
    "\n",
    "plt.figure(figsize=(12, 6))\n",
    "sns.barplot(x='Rating Count', y='Book-Title', data=popular_books, palette='viridis')\n",
    "plt.title('Top 10 Most Rated Books')\n",
    "plt.xlabel('Number of Ratings')\n",
    "plt.ylabel('Book Title')\n",
    "plt.tight_layout()\n",
    "plt.show()\n",
    "\n",
    "# 3. Pie chart of active vs inactive users\n",
    "total_ratings_per_user = ratings['User-ID'].value_counts()\n",
    "active_users = total_ratings_per_user[total_ratings_per_user > 10].count()\n",
    "inactive_users = total_ratings_per_user[total_ratings_per_user <= 10].count()\n",
    "\n",
    "plt.figure(figsize=(6, 6))\n",
    "plt.pie([active_users, inactive_users], labels=['Active Users (>10 ratings)', 'Inactive Users (<=10 ratings)'], autopct='%1.1f%%', colors=['lightgreen', 'lightcoral'])\n",
    "plt.title('Active vs Inactive Users')\n",
    "plt.tight_layout()\n",
    "plt.show()"
   ]
  }
 ],
 "metadata": {
  "kernelspec": {
   "display_name": "Python 3",
   "language": "python",
   "name": "python3"
  },
  "language_info": {
   "codemirror_mode": {
    "name": "ipython",
    "version": 3
   },
   "file_extension": ".py",
   "mimetype": "text/x-python",
   "name": "python",
   "nbconvert_exporter": "python",
   "pygments_lexer": "ipython3",
   "version": "3.8.0"
  }
 },
 "nbformat": 4,
 "nbformat_minor": 4
}